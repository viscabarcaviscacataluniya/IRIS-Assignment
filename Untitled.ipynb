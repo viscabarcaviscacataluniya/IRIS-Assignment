{
 "cells": [
  {
   "cell_type": "code",
   "execution_count": 1,
   "id": "853f5647",
   "metadata": {},
   "outputs": [],
   "source": [
    "import pandas as pd\n",
    "\n",
    "def get_sheet_names(filepath):\n",
    "    # Returns -> A list of all sheet names.\n",
    "    xls = pd.ExcelFile(filepath)\n",
    "    return xls.sheet_names\n",
    "\n",
    "\n",
    "def get_row_names(filepath, sheet_name):\n",
    "    # Returns -> A list of row names from Excel file.\n",
    "    # Raises ValueError -> If the name is nottt foundd \n",
    "    xls = pd.ExcelFile(filepath)\n",
    "    \n",
    "    if sheet_name not in xls.sheet_names:\n",
    "        raise ValueError(f\"Sheet '{sheet_name}' not found.\")\n",
    "    \n",
    "    df = pd.read_excel(xls, sheet_name=sheet_name, header=None)\n",
    "    row_names = df.iloc[:, 0].dropna().astype(str).tolist() \n",
    "    return row_names\n",
    "\n",
    "\n",
    "def get_row_sum(filepath, sheet_name, row_name):\n",
    "    # Returns -> The sum of all roews.\n",
    "    xls = pd.ExcelFile(filepath)\n",
    "    \n",
    "    if sheet_name not in xls.sheet_names:\n",
    "        raise ValueError(f\"Sheet '{sheet_name}' not found.\")\n",
    "    \n",
    "    df = pd.read_excel(xls, sheet_name=sheet_name, header=None)\n",
    "    # Find the row index\n",
    "    row_index = df[df.iloc[:, 0].astype(str).str.strip() == row_name.strip()].index\n",
    "\n",
    "    if row_index.empty:\n",
    "        raise ValueError(f\"Row '{row_name}' not found.\")\n",
    "    \n",
    "    row = df.iloc[row_index[0], 1:]\n",
    "    numeric_values = pd.to_numeric(row, errors='coerce')  \n",
    "    return numeric_values.sum(skipna=True)  \n"
   ]
  },
  {
   "cell_type": "code",
   "execution_count": 2,
   "id": "65964c3f",
   "metadata": {},
   "outputs": [],
   "source": [
    "#!/usr/bin/env python\n",
    "# coding: utf-8\n",
    "\n",
    "# In[1]:\n",
    "\n",
    "\n",
    "#import preferd libraries as per need\n",
    "from fastapi import FastAPI, Query, HTTPException\n",
    "from utils.excel_utils import get_sheet_names, get_row_names, get_row_sum\n",
    "#start of app-> Fast Api\n",
    "app = FastAPI(\n",
    "title = \"FastAPI Excel Document Parser\",\n",
    "        description=\"Processes an Excel file and exposes APIs for table listing, row details, and row sum.\",\n",
    "    version=\"1.0.0\")\n",
    "#global variable -> helps in change's later\n",
    "excel_path = \"capbudg.xls\"\n",
    "#endpoint -> 1:retyrns all sheet names in excel files\n",
    "@app.get(\"/list_tables\")\n",
    "def list_tables():\n",
    "    try:\n",
    "        sheets = get_sheet_names(excel_path)\n",
    "        return{\"tables\": sheets}\n",
    "    except Exception as e:\n",
    "        raise HTTPException(status_code=500, detail=str(e))\n",
    "#endpoint -> 2: return forts column va,ues of selected sheets   \n",
    "@app.get(\"/get_table_details\")\n",
    "def get_table_details(table_name: str = Query(..., description=\"Sheet name to fetch row names from\")):\n",
    "    try:\n",
    "        row_names = get_row_names(excel_path, table_name)\n",
    "        return {\"table_name\": table_name, \"row_names\": row_names} \n",
    "    except ValueError as ve:\n",
    "        raise HTTPException(status_code=404, detail=str(ve))\n",
    "    except Exception as e:\n",
    "        raise HTTPException(status_code=500, detail=str(e))\n",
    "\n",
    "#endpoint-> 3 : return thew sum of rows        \n",
    "@app.get(\"/row_sum\")\n",
    "def row_sum(table_name: str = Query(..., description=\"Sheet name\"),row_name: str = Query(..., description=\"Row name to sum\")):\n",
    "    try:\n",
    "        total = get_row_sum(excel_path,table_name,row_name)\n",
    "        return {\"table_name\": table_name, \"row_name\": row_name, \"sum\": total} \n",
    "    except ValueError as ve:\n",
    "            raise HTTPException(status_code=404, detail=str(ve))\n",
    "    except Exception as e:\n",
    "            raise HTTPException(status_code=500, detail=str(e))    \n",
    "\n",
    "\n",
    "\n",
    "\n"
   ]
  },
  {
   "cell_type": "code",
   "execution_count": 7,
   "id": "337ba1e0",
   "metadata": {},
   "outputs": [
    {
     "name": "stdout",
     "output_type": "stream",
     "text": [
      "['Equity Analysis of a Project', 'INITIAL INVESTMENT', 'Initial Investment=', 'Opportunity cost (if any)=', 'Lifetime of the investment', 'Salvage Value at end of project=', 'Deprec. method(1:St.line;2:DDB)=', 'Tax Credit (if any )=', 'Other invest.(non-depreciable)=', 'WORKING CAPITAL', 'Initial Investment in Work. Cap=', 'Working Capital as % of Rev=', 'Salvageable fraction at end=', 'GROWTH RATES', 'Revenues', 'Fixed Expenses', 'Default: The fixed expense growth rate is set equal to the growth rate in revenues by default.', 'INITIAL INVESTMENT', 'Investment', ' - Tax Credit', 'Net Investment', ' + Working Cap', ' + Opp. Cost', ' + Other invest.', 'Initial Investment', 'SALVAGE VALUE', 'Equipment', 'Working Capital', 'OPERATING CASHFLOWS', 'Lifetime Index', 'Revenues', ' -Var. Expenses', ' - Fixed Expenses', 'EBITDA', ' - Depreciation', 'EBIT', ' -Tax', 'EBIT(1-t)', ' + Depreciation', ' - ∂ Work. Cap', 'NATCF', 'Discount Factor', 'Discounted CF', 'Book Value (beginning)', 'Depreciation', 'BV(ending)']\n",
      "Error: Row 'Tax Credit' not found.\n"
     ]
    }
   ],
   "source": [
    "from utils.excel_utils import get_row_names, get_row_sum\n",
    "\n",
    "excel_path = \"capbudg.xls\"\n",
    "sheet_name = \"CapBudgWS\"  # Example sheet name, change to the actual sheet name\n",
    "\n",
    "# Test get_row_names\n",
    "try:\n",
    "    row_names = get_row_names(excel_path, sheet_name)\n",
    "    print(row_names)\n",
    "except Exception as e:\n",
    "    print(f\"Error: {e}\")\n",
    "\n",
    "# Test get_row_sum\n",
    "row_name = \"Tax Credit\"  \n",
    "try:\n",
    "    row_sum = get_row_sum(excel_path, sheet_name, row_name)\n",
    "    print(row_sum)\n",
    "except Exception as e:\n",
    "    print(f\"Error: {e}\")\n"
   ]
  },
  {
   "cell_type": "code",
   "execution_count": 4,
   "id": "26f08673",
   "metadata": {},
   "outputs": [],
   "source": [
    "row_name = \"Equity Analysis of a Project\"  # Replace with an actual row name from the output\n"
   ]
  },
  {
   "cell_type": "code",
   "execution_count": null,
   "id": "118e6aa9",
   "metadata": {},
   "outputs": [],
   "source": []
  }
 ],
 "metadata": {
  "kernelspec": {
   "display_name": "Python 3 (ipykernel)",
   "language": "python",
   "name": "python3"
  },
  "language_info": {
   "codemirror_mode": {
    "name": "ipython",
    "version": 3
   },
   "file_extension": ".py",
   "mimetype": "text/x-python",
   "name": "python",
   "nbconvert_exporter": "python",
   "pygments_lexer": "ipython3",
   "version": "3.11.4"
  }
 },
 "nbformat": 4,
 "nbformat_minor": 5
}
